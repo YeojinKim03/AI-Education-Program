{
  "nbformat": 4,
  "nbformat_minor": 0,
  "metadata": {
    "colab": {
      "name": "220802 AI 실습.ipynb",
      "provenance": [],
      "collapsed_sections": [],
      "authorship_tag": "ABX9TyNayKVFLpPAPBOCkztRIfhK",
      "include_colab_link": true
    },
    "kernelspec": {
      "name": "python3",
      "display_name": "Python 3"
    },
    "language_info": {
      "name": "python"
    }
  },
  "cells": [
    {
      "cell_type": "markdown",
      "metadata": {
        "id": "view-in-github",
        "colab_type": "text"
      },
      "source": [
        "<a href=\"https://colab.research.google.com/github/YeojinKim03/AI-study/blob/master/220802_AI_%EC%8B%A4%EC%8A%B5.ipynb\" target=\"_parent\"><img src=\"https://colab.research.google.com/assets/colab-badge.svg\" alt=\"Open In Colab\"/></a>"
      ]
    },
    {
      "cell_type": "markdown",
      "source": [
        "# 모듈 임포팅\n",
        "\n"
      ],
      "metadata": {
        "id": "38FUQ-2oGtyq"
      }
    },
    {
      "cell_type": "code",
      "source": [
        "import numpy as np\n",
        "import pandas as pd\n",
        "import matplotlib.pyplot as plt\n",
        "\n",
        "import tensorflow as tf\n",
        "from tensorflow import keras\n",
        "from tensorflow.keras import optimizers\n",
        "from tensorflow.keras.layers import Dense, Input\n",
        "\n",
        "import time"
      ],
      "metadata": {
        "id": "VGocVNY3TENc"
      },
      "execution_count": null,
      "outputs": []
    },
    {
      "cell_type": "markdown",
      "source": [
        "#Keras DNN 최소코드"
      ],
      "metadata": {
        "id": "FgANNEZ2VzPb"
      }
    },
    {
      "cell_type": "markdown",
      "source": [
        "##데이터 준비\n",
        "\n",
        "1차원 데이터 x와 x**2의 1차원 데이터 y"
      ],
      "metadata": {
        "id": "GtUS-vvLWBbk"
      }
    },
    {
      "cell_type": "code",
      "source": [
        "import numpy as np\n",
        "\n",
        "x=np.arange(-1,1,0.01) #-1부터 1까지 0.01간격으로\n",
        "y=x**2\n",
        "\n",
        "plt.scatter(x,y)"
      ],
      "metadata": {
        "colab": {
          "base_uri": "https://localhost:8080/",
          "height": 283
        },
        "id": "1bw6XCDnV41l",
        "outputId": "255dcd77-7f49-4824-b9cb-5685fc6945b0"
      },
      "execution_count": null,
      "outputs": [
        {
          "output_type": "execute_result",
          "data": {
            "text/plain": [
              "<matplotlib.collections.PathCollection at 0x7f3378bf40d0>"
            ]
          },
          "metadata": {},
          "execution_count": 36
        },
        {
          "output_type": "display_data",
          "data": {
            "text/plain": [
              "<Figure size 432x288 with 1 Axes>"
            ],
            "image/png": "[encoded data removed]"
          },
          "metadata": {
            "needs_background": "light"
          }
        }
      ]
    },
    {
      "cell_type": "code",
      "source": [
        "print(len(x))\n",
        "print(x.shape) #x의 모양, 200개"
      ],
      "metadata": {
        "colab": {
          "base_uri": "https://localhost:8080/"
        },
        "id": "GIH0gIDqT-A5",
        "outputId": "062901ca-e521-4f8e-b550-2a895c639790"
      },
      "execution_count": null,
      "outputs": [
        {
          "output_type": "stream",
          "name": "stdout",
          "text": [
            "200\n",
            "(200,)\n"
          ]
        }
      ]
    },
    {
      "cell_type": "markdown",
      "source": [
        "##최소 코드\n",
        "\n",
        "아래의 코드는 최소 코드"
      ],
      "metadata": {
        "id": "bzjCLFbzWVuc"
      }
    },
    {
      "cell_type": "code",
      "source": [
        "import numpy as np\n",
        "import matplotlib.pyplot as plt\n",
        "\n",
        "from tensorflow import keras\n",
        "from tensorflow.keras import optimizers\n",
        "from tensorflow.keras.layers import Dense, Input #Dense는 전체연결, Input도 임포드해야\n",
        "\n",
        "import time\n",
        "\n",
        "#모델 정의\n",
        "model=keras.Sequential() #빈껍데기 모델 생성, 모델 네트워크를 만드는 클래스, 일종의 박스\n",
        "model.add(Input(1)) #input은 클래스, 1개의 노드로 이루어진 1개의 레이어 추가함\n",
        "model.add(Dense(10, activation='tanh')) #노드 10개인 레이어\n",
        "model.add(Dense(10, activation='tanh')) #노드 10개인 레이어\n",
        "model.add(Dense(1)) #마지막은 1개의 노드\n",
        "\n",
        "#컴파일 : 모델 + optimizer + loss\n",
        "model.compile(optimizer=\"SGD\", loss=\"mse\") #loss function은 mse로 사용, 그걸 최소화 하게 할 optimizer는 SGD로 사용\n",
        "\n",
        "#학습\n",
        "model.fit(x,y, epochs=1000, verbose=0, batch_size=32) #x array가 입력, y 가 출력으로 학습해라\n",
        "\n",
        "#예측\n",
        "y_=model.predict(x) #학습이 끝나면 예측\n",
        "\n",
        "#결과 그래프로 보기\n",
        "plt.scatter(x,y) #정답 그래프\n",
        "plt.scatter(x,y_,color='r') #결과, 예측한 값\n",
        "plt.show()\n"
      ],
      "metadata": {
        "colab": {
          "base_uri": "https://localhost:8080/",
          "height": 265
        },
        "id": "tXyKwG50WaGj",
        "outputId": "4ade6781-0b62-4708-c805-a97134663f5e"
      },
      "execution_count": null,
      "outputs": [
        {
          "output_type": "display_data",
          "data": {
            "text/plain": [
              "<Figure size 432x288 with 1 Axes>"
            ],
            "image/png": "[encoded data removed]"
          },
          "metadata": {
            "needs_background": "light"
          }
        }
      ]
    },
    {
      "cell_type": "markdown",
      "source": [
        "# Keras DNN 최소 코드에 기본 정도만 추가\n",
        "\n",
        "최소는 아니고, 이 정도는 매번 사용하는 코드"
      ],
      "metadata": {
        "id": "pwQ97CrkZDhr"
      }
    },
    {
      "cell_type": "markdown",
      "source": [
        "## model.evaluate() - 성능 평가하기"
      ],
      "metadata": {
        "id": "0eMW7QLPZP3K"
      }
    },
    {
      "cell_type": "code",
      "source": [
        "from tensorflow.keras import optimizers\n",
        "from tensorflow.keras.layers import Dense, Input\n",
        "\n",
        "model=keras.Sequential() #빈 모델\n",
        "model.add(Input(1))\n",
        "model.add(Dense(10, activation='tanh'))\n",
        "model.add(Dense(10, activation='tanh'))\n",
        "model.add(Dense(1))\n",
        "\n",
        "model.compile(optimizer=\"SGD\", loss=\"mse\", metrics=[\"mae\"]) #metrics : 모델이 얼마나 잘하는지 성능을 수치로 나타낸 것, mae (mean absolute(절댓값) error)\n",
        "\n",
        "model.fit(x,y, epochs=1000, verbose=0, batch_size=32)\n",
        "\n",
        "loss, mae= model.evaluate(x,y) #추가된 것\n",
        "print(\"loss=\", loss) #추가된 것\n",
        "print(\"mae=\", mae)\n",
        "\n",
        "y_=model.predict(x)\n",
        "\n",
        "plt.scatter(x,y)\n",
        "plt.scatter(x,y_,color='r')\n",
        "plt.show()"
      ],
      "metadata": {
        "colab": {
          "base_uri": "https://localhost:8080/",
          "height": 319
        },
        "id": "vJ7-aVfbWmy6",
        "outputId": "4c138b15-b764-4be7-db02-67c14ceaaf5f"
      },
      "execution_count": null,
      "outputs": [
        {
          "output_type": "stream",
          "name": "stdout",
          "text": [
            "7/7 [==============================] - 0s 2ms/step - loss: 0.0013 - mae: 0.0291\n",
            "loss= 0.001259312964975834\n",
            "mae= 0.02906210348010063\n"
          ]
        },
        {
          "output_type": "display_data",
          "data": {
            "text/plain": [
              "<Figure size 432x288 with 1 Axes>"
            ],
            "image/png": "[encoded data removed]"
          },
          "metadata": {
            "needs_background": "light"
          }
        }
      ]
    },
    {
      "cell_type": "markdown",
      "source": [
        "## 테스트셋으로 평가하기\n",
        "\n",
        "데이터를 train과 test로 나누어 준비한다"
      ],
      "metadata": {
        "id": "BZOIJROUbMsF"
      }
    },
    {
      "cell_type": "code",
      "source": [
        "x=np.arange(-1,1,0.01)\n",
        "np.random.shuffle(x) #x라는 array를 셔플해줌\n",
        "y=x**2\n",
        "\n",
        "split_index= int(x.shape[0]*0.6) #개수의 60퍼센트를 train으로 넣어줄 것\n",
        "\n",
        "train_x, test_x = x[:split_index], x[split_index:]\n",
        "train_y, test_y= y[:split_index], y[split_index:]\n",
        "\n",
        "plt.scatter(train_x, train_y)\n",
        "plt.scatter(test_x, test_y)\n",
        "plt.show()"
      ],
      "metadata": {
        "colab": {
          "base_uri": "https://localhost:8080/",
          "height": 265
        },
        "id": "3QsRDm3FbRK4",
        "outputId": "bbbffbaf-bccd-491e-8145-04582f3bfe09"
      },
      "execution_count": null,
      "outputs": [
        {
          "output_type": "display_data",
          "data": {
            "text/plain": [
              "<Figure size 432x288 with 1 Axes>"
            ],
            "image/png": "[encoded data removed]"
          },
          "metadata": {
            "needs_background": "light"
          }
        }
      ]
    },
    {
      "cell_type": "code",
      "source": [
        "model = keras.Sequential()\n",
        "model.add(Input(1))\n",
        "model.add(Dense(10, activation='tanh'))\n",
        "model.add(Dense(10, activation='tanh'))\n",
        "model.add(Dense(1))\n",
        "\n",
        "model.compile(optimizer=\"SGD\", loss=\"mse\", metrics=[\"mae\"])\n",
        "\n",
        "# 이전 : model.fit(x, y, epochs=1000, verbose=0, batch_size=32)\n",
        "model.fit(train_x, train_y, epochs=1000, verbose=0, batch_size=32)\n",
        "\n",
        "# loss, mae = model.evaluate(x, y)\n",
        "loss, mae=model.evaluate(test_x, test_y)\n",
        "print(\"loss=\", loss)\n",
        "print(\"mae=\", mae)\n",
        "\n",
        "# 이전 : y_ = model.predict(x)\n",
        "y_ = model.predict(test_x)\n",
        "\n",
        "# 이전 : plt.scatter(x,y)\n",
        "plt.scatter(test_x,test_y)\n",
        "# plt.scatter(x,y_,color='r')\n",
        "plt.scatter(test_x,y_,color='r')\n",
        "plt.show()"
      ],
      "metadata": {
        "colab": {
          "base_uri": "https://localhost:8080/",
          "height": 319
        },
        "id": "3adU_D-Lk21q",
        "outputId": "f66b3921-1db8-4620-9013-8f13cb8b547e"
      },
      "execution_count": null,
      "outputs": [
        {
          "output_type": "stream",
          "name": "stdout",
          "text": [
            "3/3 [==============================] - 0s 4ms/step - loss: 0.0027 - mae: 0.0432\n",
            "loss= 0.0026806581299751997\n",
            "mae= 0.043169230222702026\n"
          ]
        },
        {
          "output_type": "display_data",
          "data": {
            "text/plain": [
              "<Figure size 432x288 with 1 Axes>"
            ],
            "image/png": "[encoded data removed]"
          },
          "metadata": {
            "needs_background": "light"
          }
        }
      ]
    },
    {
      "cell_type": "markdown",
      "source": [
        "train_x, train_y로 학습하였고, evaluate()와 predict()에는 test_x, test_y를 사용하였다.\n",
        "그려진 글미을 보면 test_x의 점 사이에 빈 간격이 보임--> 그 간격이 train_x"
      ],
      "metadata": {
        "id": "43duogO2lxbN"
      }
    },
    {
      "cell_type": "markdown",
      "source": [
        "##학습 시간을 출력\n"
      ],
      "metadata": {
        "id": "hghNf84Yl-XQ"
      }
    },
    {
      "cell_type": "code",
      "source": [
        "model = keras.Sequential()\n",
        "model.add(Input(1))\n",
        "model.add(Dense(10, activation='tanh'))\n",
        "model.add(Dense(10, activation='tanh'))\n",
        "model.add(Dense(1))\n",
        "\n",
        "\n",
        "model.compile(optimizer=\"SGD\", loss=\"mse\", metrics=[\"mae\"])\n",
        "\n",
        "start_time = time.time() # ADD #1970년부터 흘러간 초를 측정\n",
        "model.fit(train_x, train_y, epochs=1000, verbose=0, batch_size=32)\n",
        "print(\"elapsed : {}\".format(time.time() - start_time)) # ADD #현재 시간 - 이전 시간 : 몇 초나 지났는지 알 수 있음\n",
        "\n",
        "    \n",
        "\n",
        "loss, mae = model.evaluate(test_x, test_y)\n",
        "print(\"loss=\", loss)\n",
        "print(\"mae=\", mae)\n",
        "\n",
        "\n",
        "y_ = model.predict(test_x)\n",
        "\n",
        "plt.scatter(test_x,test_y)\n",
        "plt.scatter(test_x,y_,color='r')\n",
        "plt.show()"
      ],
      "metadata": {
        "colab": {
          "base_uri": "https://localhost:8080/",
          "height": 336
        },
        "id": "yqaVyxc-mB4n",
        "outputId": "b3b96d62-f6fb-4f34-9bbe-1c6a54fc6e7d"
      },
      "execution_count": null,
      "outputs": [
        {
          "output_type": "stream",
          "name": "stdout",
          "text": [
            "elapsed : 10.59839391708374\n",
            "3/3 [==============================] - 0s 5ms/step - loss: 0.0016 - mae: 0.0340\n",
            "loss= 0.001637740759178996\n",
            "mae= 0.0339517667889595\n"
          ]
        },
        {
          "output_type": "display_data",
          "data": {
            "text/plain": [
              "<Figure size 432x288 with 1 Axes>"
            ],
            "image/png": "[encoded data removed]"
          },
          "metadata": {
            "needs_background": "light"
          }
        }
      ]
    },
    {
      "cell_type": "markdown",
      "source": [
        "## model.summary() 네트워크 모양 보기"
      ],
      "metadata": {
        "id": "l7LfcYIQmS65"
      }
    },
    {
      "cell_type": "code",
      "source": [
        "model = keras.Sequential(name='my_model')\n",
        "model.add(Input(1, name='input'))\n",
        "model.add(Dense(10, activation='tanh', name='hidden1')) #shape는 출력되는 개수, Param#(업데이트 해야하는 weight 수)= input 1개 + 1(b), 10개 출력 --> 20개\n",
        "model.add(Dense(10, activation='tanh', name='hidden2')) #shape는 출력되는 개수, Param#(업데이트 해야하는 weight 수)= input 10 + 1(b), 10개 출력--> 110개\n",
        "model.add(Dense(1, name='output')) ##shape는 출력되는 개수, Param#(업데이트 해야하는 weight 수)= input 10 + 1(b), 1개 출력--> 11개\n",
        "\n",
        "\n",
        "model.compile(optimizer=\"SGD\", loss=\"mse\", metrics=[\"mae\"])\n",
        "model.summary() # ADD, 전체적인 모델 모양 보여줌\n",
        "\n",
        "start_time = time.time() \n",
        "model.fit(train_x, train_y, epochs=1000, verbose=0, batch_size=32)\n",
        "print(\"elapsed : {}\".format(time.time() - start_time)) \n",
        "\n",
        "y_ = model.predict(test_x)\n",
        "\n",
        "plt.scatter(test_x,test_y)\n",
        "plt.scatter(test_x,y_,color='r')\n",
        "plt.show()"
      ],
      "metadata": {
        "colab": {
          "base_uri": "https://localhost:8080/",
          "height": 589
        },
        "id": "55JiVJ_DmO1D",
        "outputId": "ce66a927-0dc8-488b-f65d-994e271a352a"
      },
      "execution_count": null,
      "outputs": [
        {
          "output_type": "stream",
          "name": "stdout",
          "text": [
            "Model: \"my_model\"\n",
            "_________________________________________________________________\n",
            " Layer (type)                Output Shape              Param #   \n",
            "=================================================================\n",
            " hidden1 (Dense)             (None, 10)                20        \n",
            "                                                                 \n",
            " hidden2 (Dense)             (None, 10)                110       \n",
            "                                                                 \n",
            " output (Dense)              (None, 1)                 11        \n",
            "                                                                 \n",
            "=================================================================\n",
            "Total params: 141\n",
            "Trainable params: 141\n",
            "Non-trainable params: 0\n",
            "_________________________________________________________________\n"
          ]
        },
        {
          "output_type": "stream",
          "name": "stderr",
          "text": [
            "WARNING:tensorflow:5 out of the last 17 calls to <function Model.make_predict_function.<locals>.predict_function at 0x7f3378b62b90> triggered tf.function retracing. Tracing is expensive and the excessive number of tracings could be due to (1) creating @tf.function repeatedly in a loop, (2) passing tensors with different shapes, (3) passing Python objects instead of tensors. For (1), please define your @tf.function outside of the loop. For (2), @tf.function has experimental_relax_shapes=True option that relaxes argument shapes that can avoid unnecessary retracing. For (3), please refer to https://www.tensorflow.org/guide/function#controlling_retracing and https://www.tensorflow.org/api_docs/python/tf/function for  more details.\n"
          ]
        },
        {
          "output_type": "stream",
          "name": "stdout",
          "text": [
            "elapsed : 6.130526065826416\n"
          ]
        },
        {
          "output_type": "display_data",
          "data": {
            "text/plain": [
              "<Figure size 432x288 with 1 Axes>"
            ],
            "image/png": "[encoded data removed]"
          },
          "metadata": {
            "needs_background": "light"
          }
        }
      ]
    },
    {
      "cell_type": "markdown",
      "source": [
        "네트워크의 모양이 보임 <br>\n",
        "은닉층 2개가 있음 (노드 10개, 노드 10개) <br>\n",
        "모든 레이어는 activation (w*x+b)의 형태로 <br>\n",
        "첫번째 은닉층은 20개 ( = ((1+1)*10) = (입력수+1)*10)의 웨이트를, <br>\n",
        "두번째 은닉층은 110개 ( = ( (10+1)*10) )의 웨이트가 있다 <br>"
      ],
      "metadata": {
        "id": "giY7xGrdmb9o"
      }
    },
    {
      "cell_type": "markdown",
      "source": [
        "##모델 그리기"
      ],
      "metadata": {
        "id": "s1-7ICy0vvrj"
      }
    },
    {
      "cell_type": "code",
      "source": [
        "tf.keras.utils.plot_model(model=model, rankdir=\"LR\", dpi=72, show_shapes=True) #dpi (dot por inch 해상도, show_shapes : input과 output모양), rankdir : LR이면 왼쪽에서 오른쪽, TD이면 위에서아래로"
      ],
      "metadata": {
        "colab": {
          "base_uri": "https://localhost:8080/",
          "height": 118
        },
        "id": "VfxYUT9Sm0om",
        "outputId": "112ffbcb-9615-437f-abcd-2fa5505e487a"
      },
      "execution_count": null,
      "outputs": [
        {
          "output_type": "execute_result",
          "data": {
            "text/plain": [
              "<IPython.core.display.Image object>"
            ],
            "image/png": "[encoded data removed]"
          },
          "metadata": {},
          "execution_count": 38
        }
      ]
    },
    {
      "cell_type": "markdown",
      "source": [
        "##Base Model 결과 저장\n",
        "\n",
        "이후 비교를 위해 그래프를 저장해 둔다"
      ],
      "metadata": {
        "id": "uv3l7p6w11Bq"
      }
    },
    {
      "cell_type": "code",
      "source": [
        "plt.scatter(test_x,test_y)\n",
        "plt.scatter(test_x,y_,color='r') #그래프 그림\n",
        "plt.savefig(\"base_result.png\") #사진 저장해줌\n",
        "\n",
        "from IPython.display import Image \n",
        "display(Image(\"base_result.png\")) #이 파일을 읽어서 보여줌"
      ],
      "metadata": {
        "id": "zgrB5CEQ16sf"
      },
      "execution_count": null,
      "outputs": []
    },
    {
      "cell_type": "markdown",
      "source": [
        "#Keras DNN Template\n",
        "\n",
        "본 실습에 사용되는 코드의 템플릿"
      ],
      "metadata": {
        "id": "OKuGh-2c2Add"
      }
    },
    {
      "cell_type": "code",
      "source": [
        "import numpy as np\n",
        "import matplotlib.pyplot as plt\n",
        "\n",
        "from tensorflow import keras\n",
        "from tensorflow.keras import optimizers\n",
        "from tensorflow.keras.layers import Dense, Input\n",
        "\n",
        "import time\n",
        "\n",
        "\n",
        "# 모델 정의\n",
        "model = keras.Sequential()\n",
        "model.add(Input(1))\n",
        "model.add(Dense(10, activation='tanh'))\n",
        "model.add(Dense(10, activation='tanh'))\n",
        "model.add(Dense(1))\n",
        "\n",
        "\n",
        "# 모델 컴파일\n",
        "model.compile(optimizer=\"SGD\", loss=\"mse\", metrics=[\"mae\"])\n",
        "model.summary()\n",
        "\n",
        "\n",
        "# 학습\n",
        "start_time = time.time()\n",
        "model.fit(train_x, train_y, epochs=1000, verbose=0, batch_size=32)\n",
        "print(\"elapsed : {}\".format(time.time() - start_time))\n",
        "\n",
        "\n",
        "# 평가\n",
        "loss, mae = model.evaluate(test_x, test_y)\n",
        "print(\"loss=\", loss)\n",
        "print(\"mae=\", mae)\n",
        "\n",
        "\n",
        "# 예측\n",
        "y_ = model.predict(test_x)\n",
        "\n",
        "plt.scatter(test_x,test_y)\n",
        "plt.scatter(test_x,y_,color='r')\n",
        "plt.show()"
      ],
      "metadata": {
        "id": "SuFmIdVu2GAT"
      },
      "execution_count": null,
      "outputs": []
    },
    {
      "cell_type": "markdown",
      "source": [
        "#layer 수\n",
        "\n",
        "히든레이어 없을 경우 - 학습 x\n",
        "<br>\n",
        "히든레이어 3개로 증가 - 차이 x\n",
        "<br>\n",
        "히든레이어 5개로 증가 - 살짝 성능 향상\n",
        "<br>\n",
        "히든레이어 10개로 증가 - 성능 좋아짐"
      ],
      "metadata": {
        "id": "iMnvOErv2Ppc"
      }
    },
    {
      "cell_type": "markdown",
      "source": [
        "#node 수\n",
        "node 5개 - 살짝 차이남\n",
        "node 2개 - 차이가 큼\n",
        "node 1개 - 거의 학습 x"
      ],
      "metadata": {
        "id": "-mPy-cHz202x"
      }
    },
    {
      "cell_type": "markdown",
      "source": [
        "#Sin 데이터\n",
        "\n",
        "데이터에 변화"
      ],
      "metadata": {
        "id": "Ln7GeVED225j"
      }
    },
    {
      "cell_type": "code",
      "source": [
        "import numpy as np\n",
        "import pandas as pd\n",
        "import matplotlib.pyplot as plt\n",
        "\n",
        "import tensorflow as tf\n",
        "from tensorflow import keras\n",
        "from tensorflow.keras import Sequential\n",
        "from tensorflow.keras import optimizers\n",
        "from tensorflow.keras.layers import Dense, Input\n",
        "\n",
        "import time"
      ],
      "metadata": {
        "id": "-xgrzjyA2kkW"
      },
      "execution_count": null,
      "outputs": []
    },
    {
      "cell_type": "code",
      "source": [
        "def get_sin_data(start=0, end=10, step=0.1):\n",
        "  x = np.arange(start,end,step)\n",
        "  np.random.shuffle(x)\n",
        "  y = np.sin(x)\n",
        "\n",
        "  split_index = int(x.shape[0]*0.6)\n",
        "\n",
        "  train_x, test_x = x[:split_index], x[split_index:]\n",
        "  train_y, test_y = y[:split_index], y[split_index:]\n",
        "\n",
        "  return (train_x, train_y), (test_x, test_y)"
      ],
      "metadata": {
        "id": "u2KTrhea2zUG"
      },
      "execution_count": null,
      "outputs": []
    },
    {
      "cell_type": "markdown",
      "source": [
        "##학습 추가 진행"
      ],
      "metadata": {
        "id": "e4a63uKL3FFD"
      }
    },
    {
      "cell_type": "code",
      "source": [
        "import numpy as np\n",
        "import pandas as pd\n",
        "import matplotlib.pyplot as plt\n",
        "\n",
        "import tensorflow as tf\n",
        "from tensorflow import keras\n",
        "\n",
        "import time\n",
        "\n",
        "from tensorflow.keras import optimizers\n",
        "from tensorflow.keras.layers import Dense"
      ],
      "metadata": {
        "id": "3cINFXDo3Lcn"
      },
      "execution_count": null,
      "outputs": []
    },
    {
      "cell_type": "markdown",
      "source": [
        "모델은 그대로 두고 데이터만 sin 데이터로 변경한다."
      ],
      "metadata": {
        "id": "WOw3zu6u3NeE"
      }
    },
    {
      "cell_type": "code",
      "source": [
        "(train_x, train_y), (test_x, test_y) = get_sin_data(start=0, end=10, step=0.1)\n",
        "\n",
        "plt.scatter(train_x,train_y)\n",
        "plt.show()\n",
        "\n",
        "plt.scatter(test_x,test_y,color=\"r\")\n",
        "plt.show()"
      ],
      "metadata": {
        "colab": {
          "base_uri": "https://localhost:8080/",
          "height": 513
        },
        "id": "7jexr6xY3RX4",
        "outputId": "6f5578de-c915-4e6d-d556-2bb0ce37e30e"
      },
      "execution_count": null,
      "outputs": [
        {
          "output_type": "display_data",
          "data": {
            "text/plain": [
              "<Figure size 432x288 with 1 Axes>"
            ],
            "image/png": "[encoded data removed]"
          },
          "metadata": {
            "needs_background": "light"
          }
        },
        {
          "output_type": "display_data",
          "data": {
            "text/plain": [
              "<Figure size 432x288 with 1 Axes>"
            ],
            "image/png": "[encoded data removed]"
          },
          "metadata": {
            "needs_background": "light"
          }
        }
      ]
    },
    {
      "cell_type": "code",
      "source": [
        "model = keras.Sequential()\n",
        "model.add(Input(1))\n",
        "model.add(Dense(10, activation='tanh'))\n",
        "model.add(Dense(10, activation='tanh'))\n",
        "model.add(Dense(1))\n",
        "\n",
        "\n",
        "model.compile(optimizer=\"SGD\", loss=\"mse\", metrics=[\"mae\"])\n",
        "model.summary()\n",
        "\n",
        "\n",
        "start_time = time.time()\n",
        "model.fit(train_x, train_y, epochs=1000, verbose=0, batch_size=32)\n",
        "print(\"elapsed : {}\".format(time.time() - start_time))    \n",
        "\n",
        "\n",
        "loss, mae = model.evaluate(test_x, test_y)\n",
        "print(\"loss=\", loss)\n",
        "print(\"mae=\", mae)\n",
        "\n",
        "\n",
        "y_ = model.predict(test_x)\n",
        "\n",
        "plt.scatter(test_x,test_y)\n",
        "plt.scatter(test_x,y_,color='r')\n",
        "plt.show()"
      ],
      "metadata": {
        "colab": {
          "base_uri": "https://localhost:8080/",
          "height": 642
        },
        "id": "E-2KTPCr3Wa2",
        "outputId": "7b7292f5-5de4-4479-d9a6-6fbe0bcffead"
      },
      "execution_count": null,
      "outputs": [
        {
          "output_type": "stream",
          "name": "stdout",
          "text": [
            "Model: \"sequential_7\"\n",
            "_________________________________________________________________\n",
            " Layer (type)                Output Shape              Param #   \n",
            "=================================================================\n",
            " dense_21 (Dense)            (None, 10)                20        \n",
            "                                                                 \n",
            " dense_22 (Dense)            (None, 10)                110       \n",
            "                                                                 \n",
            " dense_23 (Dense)            (None, 1)                 11        \n",
            "                                                                 \n",
            "=================================================================\n",
            "Total params: 141\n",
            "Trainable params: 141\n",
            "Non-trainable params: 0\n",
            "_________________________________________________________________\n",
            "elapsed : 3.811999559402466\n",
            "2/2 [==============================] - 0s 8ms/step - loss: 0.1687 - mae: 0.3242\n",
            "loss= 0.16866420209407806\n",
            "mae= 0.3242031931877136\n"
          ]
        },
        {
          "output_type": "stream",
          "name": "stderr",
          "text": [
            "WARNING:tensorflow:5 out of the last 13 calls to <function Model.make_predict_function.<locals>.predict_function at 0x7f337883ef80> triggered tf.function retracing. Tracing is expensive and the excessive number of tracings could be due to (1) creating @tf.function repeatedly in a loop, (2) passing tensors with different shapes, (3) passing Python objects instead of tensors. For (1), please define your @tf.function outside of the loop. For (2), @tf.function has experimental_relax_shapes=True option that relaxes argument shapes that can avoid unnecessary retracing. For (3), please refer to https://www.tensorflow.org/guide/function#controlling_retracing and https://www.tensorflow.org/api_docs/python/tf/function for  more details.\n"
          ]
        },
        {
          "output_type": "display_data",
          "data": {
            "text/plain": [
              "<Figure size 432x288 with 1 Axes>"
            ],
            "image/png": "[encoded data removed]"
          },
          "metadata": {
            "needs_background": "light"
          }
        }
      ]
    },
    {
      "cell_type": "markdown",
      "source": [
        "##추가 학습"
      ],
      "metadata": {
        "id": "j8ZCW_tE3bnK"
      }
    },
    {
      "cell_type": "code",
      "source": [
        "def fit_one_more(model, train_x, train_y, test_x, test_y, batch_size=32):\n",
        "\n",
        "  start_time = time.time()\n",
        "  model.fit(train_x, train_y, epochs=1000, verbose=0, batch_size=batch_size)\n",
        "  print(\"elapsed : {}\".format(time.time() - start_time))    \n",
        "\n",
        "  y_ = model.predict(test_x)\n",
        "\n",
        "  plt.scatter(test_x,test_y)\n",
        "  plt.scatter(test_x,y_,color='r')\n",
        "  plt.show()\n",
        "\n",
        "def fit_n_times(model, train_x, train_y, test_x, test_y, n):\n",
        "  \n",
        "  for i in range(n):\n",
        "    print(\"{} times fitting\".format(i))\n",
        "    fit_one_more(model, train_x, train_y, test_x, test_y)"
      ],
      "metadata": {
        "id": "xJpaGKn53dap"
      },
      "execution_count": null,
      "outputs": []
    },
    {
      "cell_type": "code",
      "source": [
        "fit_n_times(model, train_x, train_y, test_x, test_y, 10)"
      ],
      "metadata": {
        "colab": {
          "base_uri": "https://localhost:8080/",
          "height": 1000
        },
        "id": "O50qxpUG3hbM",
        "outputId": "84ecc4c1-98d4-4f94-b928-f00783e97c66"
      },
      "execution_count": null,
      "outputs": [
        {
          "output_type": "stream",
          "name": "stdout",
          "text": [
            "0 times fitting\n",
            "elapsed : 3.3204357624053955\n"
          ]
        },
        {
          "output_type": "display_data",
          "data": {
            "text/plain": [
              "<Figure size 432x288 with 1 Axes>"
            ],
            "image/png": "[encoded data removed]"
          },
          "metadata": {
            "needs_background": "light"
          }
        },
        {
          "output_type": "stream",
          "name": "stdout",
          "text": [
            "1 times fitting\n",
            "elapsed : 3.2396862506866455\n"
          ]
        },
        {
          "output_type": "display_data",
          "data": {
            "text/plain": [
              "<Figure size 432x288 with 1 Axes>"
            ],
            "image/png": "[encoded data removed]"
          },
          "metadata": {
            "needs_background": "light"
          }
        },
        {
          "output_type": "stream",
          "name": "stdout",
          "text": [
            "2 times fitting\n",
            "elapsed : 5.477342128753662\n"
          ]
        },
        {
          "output_type": "display_data",
          "data": {
            "text/plain": [
              "<Figure size 432x288 with 1 Axes>"
            ],
            "image/png": "[encoded data removed]"
          },
          "metadata": {
            "needs_background": "light"
          }
        },
        {
          "output_type": "stream",
          "name": "stdout",
          "text": [
            "3 times fitting\n",
            "elapsed : 3.193744421005249\n"
          ]
        },
        {
          "output_type": "display_data",
          "data": {
            "text/plain": [
              "<Figure size 432x288 with 1 Axes>"
            ],
            "image/png": "[encoded data removed]"
          },
          "metadata": {
            "needs_background": "light"
          }
        },
        {
          "output_type": "stream",
          "name": "stdout",
          "text": [
            "4 times fitting\n",
            "elapsed : 3.236529588699341\n"
          ]
        },
        {
          "output_type": "display_data",
          "data": {
            "text/plain": [
              "<Figure size 432x288 with 1 Axes>"
            ],
            "image/png": "[encoded data removed]"
          },
          "metadata": {
            "needs_background": "light"
          }
        },
        {
          "output_type": "stream",
          "name": "stdout",
          "text": [
            "5 times fitting\n",
            "elapsed : 3.241152048110962\n"
          ]
        },
        {
          "output_type": "display_data",
          "data": {
            "text/plain": [
              "<Figure size 432x288 with 1 Axes>"
            ],
            "image/png": "[encoded data removed]"
          },
          "metadata": {
            "needs_background": "light"
          }
        },
        {
          "output_type": "stream",
          "name": "stdout",
          "text": [
            "6 times fitting\n",
            "elapsed : 5.169502258300781\n"
          ]
        },
        {
          "output_type": "display_data",
          "data": {
            "text/plain": [
              "<Figure size 432x288 with 1 Axes>"
            ],
            "image/png": "[encoded data removed]"
          },
          "metadata": {
            "needs_background": "light"
          }
        },
        {
          "output_type": "stream",
          "name": "stdout",
          "text": [
            "7 times fitting\n",
            "elapsed : 3.401324510574341\n"
          ]
        },
        {
          "output_type": "display_data",
          "data": {
            "text/plain": [
              "<Figure size 432x288 with 1 Axes>"
            ],
            "image/png": "[encoded data removed]"
          },
          "metadata": {
            "needs_background": "light"
          }
        },
        {
          "output_type": "stream",
          "name": "stdout",
          "text": [
            "8 times fitting\n",
            "elapsed : 5.159112453460693\n"
          ]
        },
        {
          "output_type": "display_data",
          "data": {
            "text/plain": [
              "<Figure size 432x288 with 1 Axes>"
            ],
            "image/png": "[encoded data removed]"
          },
          "metadata": {
            "needs_background": "light"
          }
        },
        {
          "output_type": "stream",
          "name": "stdout",
          "text": [
            "9 times fitting\n",
            "elapsed : 3.251356840133667\n"
          ]
        },
        {
          "output_type": "display_data",
          "data": {
            "text/plain": [
              "<Figure size 432x288 with 1 Axes>"
            ],
            "image/png": "[encoded data removed]"
          },
          "metadata": {
            "needs_background": "light"
          }
        }
      ]
    },
    {
      "cell_type": "markdown",
      "source": [
        "# model.fit()의 batch_size\n",
        "\n",
        "batch_size는 GPU와 관련된 옵션이다.\n",
        "\n",
        "한번에 GPU에 보내는 데이터의 수이다.  \n",
        "\n",
        "<br>\n",
        "\n",
        "batch_size가 1일 경우 1개를 보내고, 1개의 결과를 받고, 1번 웨이트를 업데이트 한다.\n",
        "\n",
        "batch_size가 10일 경우 10개를 보내고, 10개의 결과를 한 번에 받고, 1번 웨이트를 업데이트 한다.\n",
        "\n",
        "<br>\n",
        "\n",
        "GPU는 보통 수천개의 코어를 가지고 있다. 동시에 꽤 많은 연산을 처리할 수 있다. 그런데 데이터가 적으면 대부분은 사용하지 못하고 일부만 연산에 사용된다. \n",
        "\n",
        "복수의 데이터를 한번에 보내어 한번에 연산을 할수 있고, 그 결과를 반환할 수 있다. 이런 방법으로 연산 시간을 줄일 수 있다.\n",
        "\n",
        "<br>\n",
        "\n",
        "하지만, 복수의 데이터를 한번에 보내는 경우 한번에 보낸 결과가 한번에 오고 1번 업데이트 되면서 업데이트 되는 사항이 뭉개지는 단점이 있다.\n",
        "\n",
        "batch_size가 증가할수록 시간은 단축되는데, 데이터가 뭉개지긴 함"
      ],
      "metadata": {
        "id": "x9OOYXy330E8"
      }
    },
    {
      "cell_type": "markdown",
      "source": [
        "##model.fit() verbose\n",
        "\n",
        "*   0 : 진행하면서 아무런 출력 없이\n",
        "*   1 : 진행하면서 출력과 같이\n",
        "*   2 : 시그널바는 없어짐\n",
        "\n",
        "\n",
        "\n",
        "\n",
        "\n",
        "\n"
      ],
      "metadata": {
        "id": "sAr20k3j4EII"
      }
    },
    {
      "cell_type": "code",
      "source": [
        "# (train_x, train_y), (test_x, test_y) = get_sin_data(start=0, end=10, step=0.01)\n",
        "(train_x, train_y), (test_x, test_y) = get_sin_data(start=0, end=10, step=0.0001)\n",
        "\n",
        "model = keras.Sequential()\n",
        "model.add(Input(1))\n",
        "model.add(Dense(10, activation='tanh'))\n",
        "model.add(Dense(10, activation='tanh'))\n",
        "model.add(Dense(1))\n",
        "\n",
        "\n",
        "model.compile(optimizer=\"SGD\", loss=\"mse\", metrics=[\"mae\"])\n",
        "model.summary()\n",
        "\n",
        "print(train_x.shape)\n",
        "\n",
        "start_time = time.time()\n",
        "# model.fit(train_x, train_y, epochs=1000, verbose=0, batch_size=32)\n",
        "model.fit(train_x, train_y, epochs=5, verbose=1, batch_size=32) #1로 하면 과정 보여주기 #2로하면 프로그래램 시그널 바를 안보여줌\n",
        "print(\"elapsed : {}\".format(time.time() - start_time))    "
      ],
      "metadata": {
        "id": "HrrkceDZ4ell"
      },
      "execution_count": null,
      "outputs": []
    },
    {
      "cell_type": "markdown",
      "source": [
        "# loss 보기\n",
        "이런 값이 나와야 하는데, 나온값과 차이\n",
        "<br>\n",
        "trainig loss는 성능과는 반대, test데이터는 어느순간 loss가 감소하다 오버피팅되어 loss가 증가함\n",
        "<br>\n",
        "언더피팅 <-> 오버피팅"
      ],
      "metadata": {
        "id": "MNgdy6vjGS8n"
      }
    },
    {
      "cell_type": "code",
      "source": [
        "(train_x, train_y), (test_x, test_y) = get_sin_data(start=0, end=10, step=0.1)\n",
        "\n",
        "model = keras.Sequential()\n",
        "model.add(Input(1))\n",
        "model.add(Dense(10, activation='tanh'))\n",
        "model.add(Dense(10, activation='tanh'))\n",
        "model.add(Dense(1))\n",
        "\n",
        "\n",
        "model.compile(optimizer=\"SGD\", loss=\"mse\", metrics=[\"mae\"])\n",
        "model.summary()\n",
        "\n",
        "\n",
        "start_time = time.time()\n",
        "history = model.fit(train_x, train_y, epochs=1000, verbose=0, batch_size=32)\n",
        "print(\"elapsed : {}\".format(time.time() - start_time)) "
      ],
      "metadata": {
        "id": "JjmhCe6pGUyj"
      },
      "execution_count": null,
      "outputs": []
    },
    {
      "cell_type": "code",
      "source": [
        "plt.plot(history.history['loss']) #리스트로 담겨져있음\n",
        "plt.show()"
      ],
      "metadata": {
        "id": "71uKLYy6GY8l"
      },
      "execution_count": null,
      "outputs": []
    },
    {
      "cell_type": "markdown",
      "source": [
        "# 학습 시에 validation\n",
        "train data 8/ validation data 1/ test data 1\n",
        "<br>\n",
        "train data : 학습에 사용되는 데이터\n",
        "<br>\n",
        "validation data : 오버피팅 안되게 (학습에 사용되지 않는 데이터)\n",
        "<br>\n",
        "test data : 성능 시험해보자"
      ],
      "metadata": {
        "id": "lGBP-FWDGcWu"
      }
    },
    {
      "cell_type": "code",
      "source": [
        "import numpy as np\n",
        "import pandas as pd\n",
        "import matplotlib.pyplot as plt\n",
        "\n",
        "import tensorflow as tf\n",
        "from tensorflow import keras\n",
        "from tensorflow.keras import Sequential\n",
        "from tensorflow.keras import optimizers\n",
        "from tensorflow.keras.layers import Dense, Input\n",
        "\n",
        "import time"
      ],
      "metadata": {
        "id": "2enaLAjDGhMS"
      },
      "execution_count": null,
      "outputs": []
    },
    {
      "cell_type": "markdown",
      "source": [
        "##model.fit()의 validation_data"
      ],
      "metadata": {
        "id": "np8C_u9TwDp5"
      }
    },
    {
      "cell_type": "code",
      "source": [
        "(train_x, train_y), (test_x, test_y) = get_sin_data(start=0, end=10, step=0.1)\n",
        "\n",
        "#data 분할시키는 과정은 생략\n",
        "\n",
        "model = keras.Sequential()\n",
        "model.add(Input(1))\n",
        "model.add(Dense(10, activation='tanh'))\n",
        "model.add(Dense(10, activation='tanh'))\n",
        "model.add(Dense(1))\n",
        "\n",
        "\n",
        "model.compile(optimizer=\"SGD\", loss=\"mse\", metrics=[\"mae\"])\n",
        "model.summary()\n",
        "\n",
        "\n",
        "start_time = time.time()\n",
        "# history = model.fit(train_x, train_y, epochs=1000, verbose=0, batch_size=32)\n",
        "history = model.fit(train_x, train_y, epochs=1000, verbose=0, batch_size=32, validation_data=(test_x, test_y))\n",
        "print(\"elapsed : {}\".format(time.time() - start_time))    "
      ],
      "metadata": {
        "id": "SCQoa6EiwC0p"
      },
      "execution_count": null,
      "outputs": []
    },
    {
      "cell_type": "code",
      "source": [
        "plt.plot(history.history['loss'], label='loss') #history.history는 과거 이력 보여줌 \n",
        "plt.plot(history.history['val_loss'], label='val_loss')\n",
        "plt.legend() #범례 표시"
      ],
      "metadata": {
        "id": "vHxYdUG7wUJY"
      },
      "execution_count": null,
      "outputs": []
    },
    {
      "cell_type": "markdown",
      "source": [
        "##model.fit()의 validation_split\n",
        "\n",
        "따로 validation 데이터를 주지 않고, test 데이터로 준 것의 일부를 validation에 사용.\n",
        "<br>\n",
        "keras가 알아서 분리해 줌\n",
        "<br>\n",
        "validation에 사용된 데이터는 학습에 사용되지 않는다."
      ],
      "metadata": {
        "id": "81PhuO1xwkG4"
      }
    },
    {
      "cell_type": "code",
      "source": [
        "(train_x, train_y), (test_x, test_y) = get_sin_data(start=0, end=10, step=0.1)\n",
        "\n",
        "model = keras.Sequential()\n",
        "model.add(Input(1))\n",
        "model.add(Dense(10, activation='tanh'))\n",
        "model.add(Dense(10, activation='tanh'))\n",
        "model.add(Dense(1))\n",
        "\n",
        "\n",
        "model.compile(optimizer=\"SGD\", loss=\"mse\", metrics=[\"mae\"])\n",
        "model.summary()\n",
        "\n",
        "\n",
        "start_time = time.time()\n",
        "# history = model.fit(train_x, train_y, epochs=1000, verbose=0, batch_size=32)\n",
        "history = model.fit(train_x, train_y, epochs=1000, verbose=0, batch_size=32, validation_split=0.1) #test데이터로 준 일부를 validation에 사용\n",
        "print(\"elapsed : {}\".format(time.time() - start_time)) "
      ],
      "metadata": {
        "id": "6GN7wetIwsO5"
      },
      "execution_count": null,
      "outputs": []
    },
    {
      "cell_type": "code",
      "source": [
        "plt.plot(history.history['loss'], label='loss')\n",
        "plt.plot(history.history['val_loss'], label='val_loss')\n",
        "plt.legend()"
      ],
      "metadata": {
        "id": "g_GZlxZUxLca"
      },
      "execution_count": null,
      "outputs": []
    },
    {
      "cell_type": "markdown",
      "source": [
        "#데이터 크기와 epoch 수"
      ],
      "metadata": {
        "id": "eh961kdExYVc"
      }
    },
    {
      "cell_type": "code",
      "source": [
        "import numpy as np\n",
        "import pandas as pd\n",
        "import matplotlib.pyplot as plt\n",
        "\n",
        "import tensorflow as tf\n",
        "from tensorflow import keras\n",
        "from tensorflow.keras import Sequential\n",
        "from tensorflow.keras import optimizers\n",
        "from tensorflow.keras.layers import Dense, Input\n",
        "\n",
        "import time"
      ],
      "metadata": {
        "id": "9tljkwK8xeST"
      },
      "execution_count": null,
      "outputs": []
    },
    {
      "cell_type": "code",
      "source": [
        "# (train_x, train_y), (test_x, test_y) = get_sin_data(start=0, end=10, step=0.01)\n",
        "(train_x, train_y), (test_x, test_y) = get_sin_data(start=0, end=10, step=0.0001) #100배 더 많이 됨\n",
        "\n",
        "model = keras.Sequential()\n",
        "model.add(Input(1))\n",
        "model.add(Dense(10, activation='tanh'))\n",
        "model.add(Dense(10, activation='tanh'))\n",
        "model.add(Dense(1))\n",
        "\n",
        "\n",
        "model.compile(optimizer=\"SGD\", loss=\"mse\", metrics=[\"mae\"])\n",
        "model.summary()\n",
        "\n",
        "start_time = time.time()\n",
        "# model.fit(train_x, train_y, epochs=1000, verbose=0, batch_size=32)\n",
        "model.fit(train_x, train_y, epochs=5, verbose=2, batch_size=32) #epoch 수 줄임\n",
        "print(\"elapsed : {}\".format(time.time() - start_time))    "
      ],
      "metadata": {
        "id": "LkIkFh1Zxjo5"
      },
      "execution_count": null,
      "outputs": []
    },
    {
      "cell_type": "code",
      "source": [
        "y_ = model.predict(test_x)\n",
        "\n",
        "plt.scatter(test_x,test_y) #테스트 값\n",
        "plt.scatter(test_x,y_,color='r') #예측값\n",
        "plt.show()"
      ],
      "metadata": {
        "id": "h0mOC8v-xqHz"
      },
      "execution_count": null,
      "outputs": []
    },
    {
      "cell_type": "markdown",
      "source": [
        "train_x의 데이터 수가 6000개. epoch는 5. 총 30,000번 업데이트 되었다.\n",
        "<br>\n",
        "epoch가 적어도 데이터 수가 많으면 학습 잘된다.\n",
        "데이터 최대한 많이 확보해야 한다."
      ],
      "metadata": {
        "id": "UERLAQ8_x5Ox"
      }
    },
    {
      "cell_type": "markdown",
      "source": [
        "#Shuffle"
      ],
      "metadata": {
        "id": "0lUikYbJx6wy"
      }
    },
    {
      "cell_type": "code",
      "source": [
        "import numpy as np\n",
        "import pandas as pd\n",
        "import matplotlib.pyplot as plt\n",
        "\n",
        "import tensorflow as tf\n",
        "from tensorflow import keras\n",
        "from tensorflow.keras import Sequential\n",
        "from tensorflow.keras import optimizers\n",
        "from tensorflow.keras.layers import Dense, Input\n",
        "\n",
        "import time"
      ],
      "metadata": {
        "id": "W6tDZ8jnx83H"
      },
      "execution_count": null,
      "outputs": []
    },
    {
      "cell_type": "markdown",
      "source": [
        "##전체 데이터 준비 시에"
      ],
      "metadata": {
        "id": "ulJdPeFVx--f"
      }
    },
    {
      "cell_type": "code",
      "source": [
        "x = np.arange(0,10,0.1)\n",
        "# np.random.shuffle(x) # COMMENTED, 셔플안함\n",
        "y = np.sin(x) #사인그래프\n",
        "\n",
        "split_index = int(x.shape[0]*0.6)\n",
        "print(split_index)\n",
        "\n",
        "train_x, test_x = x[:split_index], x[split_index:]\n",
        "train_y, test_y = y[:split_index], y[split_index:]\n",
        "\n",
        "plt.scatter(train_x, train_y)\n",
        "plt.scatter(test_x, test_y, color=\"r\")"
      ],
      "metadata": {
        "id": "voj1Ta8WyCUQ"
      },
      "execution_count": null,
      "outputs": []
    },
    {
      "cell_type": "code",
      "source": [
        "model = keras.Sequential()\n",
        "model.add(Input(1))\n",
        "model.add(Dense(10, activation='tanh'))\n",
        "model.add(Dense(10, activation='tanh'))\n",
        "model.add(Dense(1))\n",
        "\n",
        "\n",
        "model.compile(optimizer=\"SGD\", loss=\"mse\", metrics=[\"mae\"])\n",
        "model.summary()\n",
        "\n",
        "model.fit(train_x, train_y, epochs=2000, verbose=0, batch_size=32)\n",
        "\n",
        "y_ = model.predict(test_x)\n",
        "\n",
        "plt.scatter(test_x,test_y)\n",
        "plt.scatter(test_x,y_,color='r')\n",
        "plt.show()"
      ],
      "metadata": {
        "id": "BSLR7mpIyNP3"
      },
      "execution_count": null,
      "outputs": []
    },
    {
      "cell_type": "markdown",
      "source": [
        "train 데이터와 test 데이터가 서로 떨어져 있다.\n",
        "<br>\n",
        "train 영역의 데이터로 학습된 모델은 test 영역의 데이터에 적용하지 못한다.\n",
        "<br>\n",
        "전체데이터를 잘 섞어 주고, 이를 train, test로 나누어야 한다."
      ],
      "metadata": {
        "id": "V4jsyh6nyO55"
      }
    },
    {
      "cell_type": "markdown",
      "source": [
        "##나눠준 후"
      ],
      "metadata": {
        "id": "fK5mF-jPyUgN"
      }
    },
    {
      "cell_type": "code",
      "source": [
        "x = np.arange(0,10,0.1)\n",
        "np.random.shuffle(x) # UNCOMMENT, 셔플 함\n",
        "y = np.sin(x)\n",
        "\n",
        "split_index = int(x.shape[0]*0.6)\n",
        "print(split_index)\n",
        "\n",
        "train_x, test_x = x[:split_index], x[split_index:]\n",
        "train_y, test_y = y[:split_index], y[split_index:]\n",
        "\n",
        "plt.scatter(train_x, train_y)\n",
        "plt.scatter(test_x, test_y, color=\"r\")"
      ],
      "metadata": {
        "id": "GxM49QqgyW_I"
      },
      "execution_count": null,
      "outputs": []
    },
    {
      "cell_type": "code",
      "source": [
        "model = keras.Sequential()\n",
        "model.add(Input(1))\n",
        "model.add(Dense(10, activation='tanh'))\n",
        "model.add(Dense(10, activation='tanh'))\n",
        "model.add(Dense(1))\n",
        "\n",
        "\n",
        "model.compile(optimizer=\"SGD\", loss=\"mse\", metrics=[\"mae\"])\n",
        "model.summary()\n",
        "\n",
        "model.fit(train_x, train_y, epochs=2000, verbose=0, batch_size=32)\n",
        "\n",
        "y_ = model.predict(test_x)\n",
        "\n",
        "plt.scatter(test_x,test_y)\n",
        "plt.scatter(test_x,y_,color='r')\n",
        "plt.show()"
      ],
      "metadata": {
        "id": "fuWj-1ciya3r"
      },
      "execution_count": null,
      "outputs": []
    },
    {
      "cell_type": "markdown",
      "source": [
        "##데이터 쌍 유지하면서 섞기"
      ],
      "metadata": {
        "id": "eU9zOq-ByeVL"
      }
    },
    {
      "cell_type": "code",
      "source": [
        "x = np.arange(0,10,0.1) #0부터 10이전까지 0.1단위로\n",
        "y = x\n",
        "\n",
        "indexes = np.arange(len(x))\n",
        "print(indexes)\n",
        "np.random.shuffle(indexes)\n",
        "print(indexes)\n",
        "\n",
        "print(x[:10])\n",
        "print(y[:10])\n",
        "\n",
        "x = x[indexes]\n",
        "y = y[indexes]\n",
        "\n",
        "print(x[:10])\n",
        "print(y[:10])"
      ],
      "metadata": {
        "id": "ihMyo4fKy4bO"
      },
      "execution_count": null,
      "outputs": []
    },
    {
      "cell_type": "markdown",
      "source": [
        "##학습 진행 시에\n",
        "학습시에 데이터를 섞어주지 않으면 특정 데이터 순서로 학습이 일어나 편향이 생길 수 있다."
      ],
      "metadata": {
        "id": "Nb_X-bvAzbFq"
      }
    },
    {
      "cell_type": "code",
      "source": [
        "(train_x, train_y), (test_x, test_y) = get_sin_data(start=0, end=10, step=0.01)"
      ],
      "metadata": {
        "id": "CYJ3MZV20KOa"
      },
      "execution_count": null,
      "outputs": []
    },
    {
      "cell_type": "code",
      "source": [
        "model = keras.Sequential()\n",
        "model.add(Input(1))\n",
        "model.add(Dense(10, activation='tanh'))\n",
        "model.add(Dense(10, activation='tanh'))\n",
        "model.add(Dense(1))\n",
        "\n",
        "\n",
        "model.compile(optimizer=\"SGD\", loss=\"mse\", metrics=[\"mae\"])\n",
        "model.summary()\n",
        "\n",
        "start_time = time.time()\n",
        "model.fit(train_x, train_y, epochs=50, verbose=0, batch_size=32)\n",
        "print(\"elapsed : {}\".format(time.time() - start_time)) \n",
        "\n",
        "y_ = model.predict(test_x)\n",
        "\n",
        "plt.scatter(test_x,test_y)\n",
        "plt.scatter(test_x,y_,color='r')\n",
        "plt.show()"
      ],
      "metadata": {
        "id": "7quRrP5o0KsU"
      },
      "execution_count": null,
      "outputs": []
    },
    {
      "cell_type": "markdown",
      "source": [
        "각 epoch마다 섞어 주는 것이 중요하다.\n",
        "<br>\n",
        "shuffle 파라미터의 디펄트 값은 True로, Keras의 model.fit() 호출시에는 따로 설정하지 않아도 된다"
      ],
      "metadata": {
        "id": "CoGKZd2w0u2G"
      }
    },
    {
      "cell_type": "markdown",
      "source": [
        "#모델 저장과 로딩"
      ],
      "metadata": {
        "id": "_S_VotMr0zya"
      }
    },
    {
      "cell_type": "code",
      "source": [
        "(train_x, train_y), (test_x, test_y) = get_sin_data(start=0, end=10, step=0.1)\n",
        "\n",
        "model = keras.Sequential()\n",
        "model.add(Input(1))\n",
        "model.add(Dense(10, activation='tanh'))\n",
        "model.add(Dense(10, activation='tanh'))\n",
        "model.add(Dense(1))\n",
        "\n",
        "\n",
        "model.compile(optimizer=\"SGD\", loss=\"mse\", metrics=[\"mae\"])\n",
        "model.summary()\n",
        "\n",
        "\n",
        "start_time = time.time()\n",
        "model.fit(train_x, train_y, epochs=1000, verbose=0, batch_size=32)\n",
        "print(\"elapsed : {}\".format(time.time() - start_time))    \n",
        "\n",
        "\n",
        "loss, mae = model.evaluate(test_x, test_y)\n",
        "print(\"loss=\", loss)\n",
        "print(\"mae=\", mae)\n",
        "\n",
        "\n",
        "y_ = model.predict(test_x)\n",
        "\n",
        "plt.scatter(test_x,test_y)\n",
        "plt.scatter(test_x,y_,color='r')\n",
        "plt.show()"
      ],
      "metadata": {
        "id": "pNMYd8Vu04XS"
      },
      "execution_count": null,
      "outputs": []
    },
    {
      "cell_type": "markdown",
      "source": [
        "##모델 저장"
      ],
      "metadata": {
        "id": "GZHVHQmw1agt"
      }
    },
    {
      "cell_type": "code",
      "source": [
        "model.save('my_model.h5')\n",
        "\n",
        "!ls -al"
      ],
      "metadata": {
        "id": "7wG_Hd5W1dvV"
      },
      "execution_count": null,
      "outputs": []
    },
    {
      "cell_type": "markdown",
      "source": [
        "##모델 로딩"
      ],
      "metadata": {
        "id": "V-xqz9Ko1gHz"
      }
    },
    {
      "cell_type": "code",
      "source": [
        "new_model = keras.models.load_model('my_model.h5')\n",
        "\n",
        "y_ = new_model.predict(test_x)\n",
        "\n",
        "plt.scatter(test_x,test_y)\n",
        "plt.scatter(test_x,y_,color='r')\n",
        "plt.show()"
      ],
      "metadata": {
        "id": "jTOndIAS1kbm"
      },
      "execution_count": null,
      "outputs": []
    }
  ]
}